{
 "cells": [
  {
   "cell_type": "markdown",
   "id": "636cbba6",
   "metadata": {},
   "source": [
    "## Embedchain chromadb server example"
   ]
  },
  {
   "cell_type": "markdown",
   "id": "d5ac221e",
   "metadata": {},
   "source": [
    "This notebook shows an example of how you can use embedchain with chromdb (server). \n",
    "\n",
    "\n",
    "First, run chromadb inside docker using the following command:\n",
    "\n",
    "\n",
    "```bash\n",
    "git clone https://github.com/chroma-core/chroma\n",
    "cd chroma && docker-compose up -d --build\n",
    "```"
   ]
  },
  {
   "cell_type": "code",
   "execution_count": null,
   "id": "1886e49d",
   "metadata": {},
   "outputs": [],
   "source": [
    "import os\n",
    "from embedchain import App\n",
    "from embedchain.config import InitConfig\n",
    "\n",
    "\n",
    "chromadb_host = \"localhost\"\n",
    "chromadb_port = 8000\n",
    "\n",
    "config = InitConfig(host=chromadb_host, port=chromadb_port)\n",
    "naval_chat_bot = App(config)"
   ]
  },
  {
   "cell_type": "code",
   "execution_count": null,
   "id": "0c73d50c",
   "metadata": {},
   "outputs": [],
   "source": [
    "# Embed Online Resources\n",
    "naval_chat_bot.add(\"youtube_video\", \"https://www.youtube.com/watch?v=3qHkcs3kG44\")\n",
    "naval_chat_bot.add(\"pdf_file\", \"https://navalmanack.s3.amazonaws.com/Eric-Jorgenson_The-Almanack-of-Naval-Ravikant_Final.pdf\")\n",
    "naval_chat_bot.add(\"web_page\", \"https://nav.al/feedback\")\n",
    "naval_chat_bot.add(\"web_page\", \"https://nav.al/agi\")"
   ]
  },
  {
   "cell_type": "code",
   "execution_count": null,
   "id": "e4182c60",
   "metadata": {},
   "outputs": [],
   "source": [
    "naval_chat_bot.query(\"What unique capacity does Naval argue humans possess when it comes to understanding explanations or concepts?\")"
   ]
  }
 ],
 "metadata": {
  "kernelspec": {
   "display_name": "Python 3",
   "language": "python",
   "name": "python3"
  },
  "language_info": {
   "codemirror_mode": {
    "name": "ipython",
    "version": 3
   },
   "file_extension": ".py",
   "mimetype": "text/x-python",
   "name": "python",
   "nbconvert_exporter": "python",
   "pygments_lexer": "ipython3",
   "version": "3.8.8"
  }
 },
 "nbformat": 4,
 "nbformat_minor": 5
}
