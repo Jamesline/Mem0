{
  "cells": [
    {
      "cell_type": "markdown",
      "metadata": {
        "id": "b02n_zJ_hl3d"
      },
      "source": [
        "## Cookbook for using VectaraDB with Embedchain"
      ]
    },
    {
      "cell_type": "markdown",
      "metadata": {
        "id": "gyJ6ui2vhtMY"
      },
      "source": [
        "### Step-1: Install embedchain package"
      ]
    },
    {
      "cell_type": "code",
      "execution_count": 1,
      "metadata": {
        "id": "-NbXjAdlh0vJ"
      },
      "outputs": [
        {
          "name": "stdout",
          "output_type": "stream",
          "text": [
            "Obtaining file:///Users/ofer/dev/embedchain\n",
            "  Installing build dependencies ... \u001b[?25ldone\n",
            "\u001b[?25h  Checking if build backend supports build_editable ... \u001b[?25ldone\n",
            "\u001b[?25h  Getting requirements to build editable ... \u001b[?25ldone\n",
            "\u001b[?25h  Preparing editable metadata (pyproject.toml) ... \u001b[?25ldone\n",
            "\u001b[?25hRequirement already satisfied: beautifulsoup4<5.0.0,>=4.12.2 in /Users/ofer/miniconda3/envs/langchain/lib/python3.10/site-packages (from embedchain==0.1.59) (4.12.2)\n",
            "Requirement already satisfied: chromadb<0.5.0,>=0.4.17 in /Users/ofer/miniconda3/envs/langchain/lib/python3.10/site-packages (from embedchain==0.1.59) (0.4.22)\n",
            "Requirement already satisfied: gptcache<0.2.0,>=0.1.43 in /Users/ofer/miniconda3/envs/langchain/lib/python3.10/site-packages (from embedchain==0.1.59) (0.1.43)\n",
            "Requirement already satisfied: langchain<0.0.337,>=0.0.336 in /Users/ofer/miniconda3/envs/langchain/lib/python3.10/site-packages (from embedchain==0.1.59) (0.0.336)\n",
            "Requirement already satisfied: openai>=1.1.1 in /Users/ofer/miniconda3/envs/langchain/lib/python3.10/site-packages (from embedchain==0.1.59) (1.7.1)\n",
            "Requirement already satisfied: posthog<4.0.0,>=3.0.2 in /Users/ofer/miniconda3/envs/langchain/lib/python3.10/site-packages (from embedchain==0.1.59) (3.3.1)\n",
            "Requirement already satisfied: pypdf<4.0.0,>=3.11.0 in /Users/ofer/miniconda3/envs/langchain/lib/python3.10/site-packages (from embedchain==0.1.59) (3.17.4)\n",
            "Requirement already satisfied: python-dotenv<2.0.0,>=1.0.0 in /Users/ofer/miniconda3/envs/langchain/lib/python3.10/site-packages (from embedchain==0.1.59) (1.0.0)\n",
            "Requirement already satisfied: rich<14.0.0,>=13.7.0 in /Users/ofer/miniconda3/envs/langchain/lib/python3.10/site-packages (from embedchain==0.1.59) (13.7.0)\n",
            "Requirement already satisfied: schema<0.8.0,>=0.7.5 in /Users/ofer/miniconda3/envs/langchain/lib/python3.10/site-packages (from embedchain==0.1.59) (0.7.5)\n",
            "Requirement already satisfied: tiktoken<0.5.0,>=0.4.0 in /Users/ofer/miniconda3/envs/langchain/lib/python3.10/site-packages (from embedchain==0.1.59) (0.4.0)\n",
            "Requirement already satisfied: soupsieve>1.2 in /Users/ofer/miniconda3/envs/langchain/lib/python3.10/site-packages (from beautifulsoup4<5.0.0,>=4.12.2->embedchain==0.1.59) (2.5)\n",
            "Requirement already satisfied: build>=1.0.3 in /Users/ofer/miniconda3/envs/langchain/lib/python3.10/site-packages (from chromadb<0.5.0,>=0.4.17->embedchain==0.1.59) (1.0.3)\n",
            "Requirement already satisfied: requests>=2.28 in /Users/ofer/miniconda3/envs/langchain/lib/python3.10/site-packages (from chromadb<0.5.0,>=0.4.17->embedchain==0.1.59) (2.31.0)\n",
            "Requirement already satisfied: pydantic>=1.9 in /Users/ofer/miniconda3/envs/langchain/lib/python3.10/site-packages (from chromadb<0.5.0,>=0.4.17->embedchain==0.1.59) (1.10.13)\n",
            "Requirement already satisfied: chroma-hnswlib==0.7.3 in /Users/ofer/miniconda3/envs/langchain/lib/python3.10/site-packages (from chromadb<0.5.0,>=0.4.17->embedchain==0.1.59) (0.7.3)\n",
            "Requirement already satisfied: fastapi>=0.95.2 in /Users/ofer/miniconda3/envs/langchain/lib/python3.10/site-packages (from chromadb<0.5.0,>=0.4.17->embedchain==0.1.59) (0.104.1)\n",
            "Requirement already satisfied: uvicorn>=0.18.3 in /Users/ofer/miniconda3/envs/langchain/lib/python3.10/site-packages (from uvicorn[standard]>=0.18.3->chromadb<0.5.0,>=0.4.17->embedchain==0.1.59) (0.23.2)\n",
            "Requirement already satisfied: numpy>=1.22.5 in /Users/ofer/miniconda3/envs/langchain/lib/python3.10/site-packages (from chromadb<0.5.0,>=0.4.17->embedchain==0.1.59) (1.24.4)\n",
            "Requirement already satisfied: typing-extensions>=4.5.0 in /Users/ofer/miniconda3/envs/langchain/lib/python3.10/site-packages (from chromadb<0.5.0,>=0.4.17->embedchain==0.1.59) (4.8.0)\n",
            "Requirement already satisfied: pulsar-client>=3.1.0 in /Users/ofer/miniconda3/envs/langchain/lib/python3.10/site-packages (from chromadb<0.5.0,>=0.4.17->embedchain==0.1.59) (3.4.0)\n",
            "Requirement already satisfied: onnxruntime>=1.14.1 in /Users/ofer/miniconda3/envs/langchain/lib/python3.10/site-packages (from chromadb<0.5.0,>=0.4.17->embedchain==0.1.59) (1.16.3)\n",
            "Requirement already satisfied: opentelemetry-api>=1.2.0 in /Users/ofer/miniconda3/envs/langchain/lib/python3.10/site-packages (from chromadb<0.5.0,>=0.4.17->embedchain==0.1.59) (1.22.0)\n",
            "Requirement already satisfied: opentelemetry-exporter-otlp-proto-grpc>=1.2.0 in /Users/ofer/miniconda3/envs/langchain/lib/python3.10/site-packages (from chromadb<0.5.0,>=0.4.17->embedchain==0.1.59) (1.22.0)\n",
            "Requirement already satisfied: opentelemetry-instrumentation-fastapi>=0.41b0 in /Users/ofer/miniconda3/envs/langchain/lib/python3.10/site-packages (from chromadb<0.5.0,>=0.4.17->embedchain==0.1.59) (0.43b0)\n",
            "Requirement already satisfied: opentelemetry-sdk>=1.2.0 in /Users/ofer/miniconda3/envs/langchain/lib/python3.10/site-packages (from chromadb<0.5.0,>=0.4.17->embedchain==0.1.59) (1.22.0)\n",
            "Requirement already satisfied: tokenizers>=0.13.2 in /Users/ofer/miniconda3/envs/langchain/lib/python3.10/site-packages (from chromadb<0.5.0,>=0.4.17->embedchain==0.1.59) (0.15.0)\n",
            "Requirement already satisfied: pypika>=0.48.9 in /Users/ofer/miniconda3/envs/langchain/lib/python3.10/site-packages (from chromadb<0.5.0,>=0.4.17->embedchain==0.1.59) (0.48.9)\n",
            "Requirement already satisfied: tqdm>=4.65.0 in /Users/ofer/miniconda3/envs/langchain/lib/python3.10/site-packages (from chromadb<0.5.0,>=0.4.17->embedchain==0.1.59) (4.66.1)\n",
            "Requirement already satisfied: overrides>=7.3.1 in /Users/ofer/miniconda3/envs/langchain/lib/python3.10/site-packages (from chromadb<0.5.0,>=0.4.17->embedchain==0.1.59) (7.4.0)\n",
            "Requirement already satisfied: importlib-resources in /Users/ofer/miniconda3/envs/langchain/lib/python3.10/site-packages (from chromadb<0.5.0,>=0.4.17->embedchain==0.1.59) (6.1.1)\n",
            "Requirement already satisfied: grpcio>=1.58.0 in /Users/ofer/miniconda3/envs/langchain/lib/python3.10/site-packages (from chromadb<0.5.0,>=0.4.17->embedchain==0.1.59) (1.60.0)\n",
            "Requirement already satisfied: bcrypt>=4.0.1 in /Users/ofer/miniconda3/envs/langchain/lib/python3.10/site-packages (from chromadb<0.5.0,>=0.4.17->embedchain==0.1.59) (4.1.2)\n",
            "Requirement already satisfied: typer>=0.9.0 in /Users/ofer/miniconda3/envs/langchain/lib/python3.10/site-packages (from chromadb<0.5.0,>=0.4.17->embedchain==0.1.59) (0.9.0)\n",
            "Requirement already satisfied: kubernetes>=28.1.0 in /Users/ofer/miniconda3/envs/langchain/lib/python3.10/site-packages (from chromadb<0.5.0,>=0.4.17->embedchain==0.1.59) (29.0.0)\n",
            "Requirement already satisfied: tenacity>=8.2.3 in /Users/ofer/miniconda3/envs/langchain/lib/python3.10/site-packages (from chromadb<0.5.0,>=0.4.17->embedchain==0.1.59) (8.2.3)\n",
            "Requirement already satisfied: PyYAML>=6.0.0 in /Users/ofer/miniconda3/envs/langchain/lib/python3.10/site-packages (from chromadb<0.5.0,>=0.4.17->embedchain==0.1.59) (6.0.1)\n",
            "Requirement already satisfied: mmh3>=4.0.1 in /Users/ofer/miniconda3/envs/langchain/lib/python3.10/site-packages (from chromadb<0.5.0,>=0.4.17->embedchain==0.1.59) (4.1.0)\n",
            "Requirement already satisfied: cachetools in /Users/ofer/miniconda3/envs/langchain/lib/python3.10/site-packages (from gptcache<0.2.0,>=0.1.43->embedchain==0.1.59) (5.3.2)\n",
            "Requirement already satisfied: SQLAlchemy<3,>=1.4 in /Users/ofer/miniconda3/envs/langchain/lib/python3.10/site-packages (from langchain<0.0.337,>=0.0.336->embedchain==0.1.59) (2.0.23)\n",
            "Requirement already satisfied: aiohttp<4.0.0,>=3.8.3 in /Users/ofer/miniconda3/envs/langchain/lib/python3.10/site-packages (from langchain<0.0.337,>=0.0.336->embedchain==0.1.59) (3.9.1)\n",
            "Requirement already satisfied: anyio<4.0 in /Users/ofer/miniconda3/envs/langchain/lib/python3.10/site-packages (from langchain<0.0.337,>=0.0.336->embedchain==0.1.59) (3.7.1)\n",
            "Requirement already satisfied: async-timeout<5.0.0,>=4.0.0 in /Users/ofer/miniconda3/envs/langchain/lib/python3.10/site-packages (from langchain<0.0.337,>=0.0.336->embedchain==0.1.59) (4.0.3)\n",
            "Requirement already satisfied: dataclasses-json<0.7,>=0.5.7 in /Users/ofer/miniconda3/envs/langchain/lib/python3.10/site-packages (from langchain<0.0.337,>=0.0.336->embedchain==0.1.59) (0.6.3)\n",
            "Requirement already satisfied: jsonpatch<2.0,>=1.33 in /Users/ofer/miniconda3/envs/langchain/lib/python3.10/site-packages (from langchain<0.0.337,>=0.0.336->embedchain==0.1.59) (1.33)\n",
            "Requirement already satisfied: langsmith<0.1.0,>=0.0.63 in /Users/ofer/miniconda3/envs/langchain/lib/python3.10/site-packages (from langchain<0.0.337,>=0.0.336->embedchain==0.1.59) (0.0.75)\n",
            "Requirement already satisfied: distro<2,>=1.7.0 in /Users/ofer/miniconda3/envs/langchain/lib/python3.10/site-packages (from openai>=1.1.1->embedchain==0.1.59) (1.8.0)\n",
            "Requirement already satisfied: httpx<1,>=0.23.0 in /Users/ofer/miniconda3/envs/langchain/lib/python3.10/site-packages (from openai>=1.1.1->embedchain==0.1.59) (0.25.1)\n",
            "Requirement already satisfied: sniffio in /Users/ofer/miniconda3/envs/langchain/lib/python3.10/site-packages (from openai>=1.1.1->embedchain==0.1.59) (1.3.0)\n",
            "Requirement already satisfied: six>=1.5 in /Users/ofer/miniconda3/envs/langchain/lib/python3.10/site-packages (from posthog<4.0.0,>=3.0.2->embedchain==0.1.59) (1.16.0)\n",
            "Requirement already satisfied: monotonic>=1.5 in /Users/ofer/miniconda3/envs/langchain/lib/python3.10/site-packages (from posthog<4.0.0,>=3.0.2->embedchain==0.1.59) (1.6)\n",
            "Requirement already satisfied: backoff>=1.10.0 in /Users/ofer/miniconda3/envs/langchain/lib/python3.10/site-packages (from posthog<4.0.0,>=3.0.2->embedchain==0.1.59) (2.2.1)\n",
            "Requirement already satisfied: python-dateutil>2.1 in /Users/ofer/miniconda3/envs/langchain/lib/python3.10/site-packages (from posthog<4.0.0,>=3.0.2->embedchain==0.1.59) (2.8.2)\n",
            "Requirement already satisfied: markdown-it-py>=2.2.0 in /Users/ofer/miniconda3/envs/langchain/lib/python3.10/site-packages (from rich<14.0.0,>=13.7.0->embedchain==0.1.59) (3.0.0)\n",
            "Requirement already satisfied: pygments<3.0.0,>=2.13.0 in /Users/ofer/miniconda3/envs/langchain/lib/python3.10/site-packages (from rich<14.0.0,>=13.7.0->embedchain==0.1.59) (2.17.2)\n",
            "Requirement already satisfied: contextlib2>=0.5.5 in /Users/ofer/miniconda3/envs/langchain/lib/python3.10/site-packages (from schema<0.8.0,>=0.7.5->embedchain==0.1.59) (21.6.0)\n",
            "Requirement already satisfied: regex>=2022.1.18 in /Users/ofer/miniconda3/envs/langchain/lib/python3.10/site-packages (from tiktoken<0.5.0,>=0.4.0->embedchain==0.1.59) (2023.10.3)\n",
            "Requirement already satisfied: attrs>=17.3.0 in /Users/ofer/miniconda3/envs/langchain/lib/python3.10/site-packages (from aiohttp<4.0.0,>=3.8.3->langchain<0.0.337,>=0.0.336->embedchain==0.1.59) (23.1.0)\n",
            "Requirement already satisfied: multidict<7.0,>=4.5 in /Users/ofer/miniconda3/envs/langchain/lib/python3.10/site-packages (from aiohttp<4.0.0,>=3.8.3->langchain<0.0.337,>=0.0.336->embedchain==0.1.59) (6.0.4)\n",
            "Requirement already satisfied: yarl<2.0,>=1.0 in /Users/ofer/miniconda3/envs/langchain/lib/python3.10/site-packages (from aiohttp<4.0.0,>=3.8.3->langchain<0.0.337,>=0.0.336->embedchain==0.1.59) (1.9.3)\n",
            "Requirement already satisfied: frozenlist>=1.1.1 in /Users/ofer/miniconda3/envs/langchain/lib/python3.10/site-packages (from aiohttp<4.0.0,>=3.8.3->langchain<0.0.337,>=0.0.336->embedchain==0.1.59) (1.4.0)\n",
            "Requirement already satisfied: aiosignal>=1.1.2 in /Users/ofer/miniconda3/envs/langchain/lib/python3.10/site-packages (from aiohttp<4.0.0,>=3.8.3->langchain<0.0.337,>=0.0.336->embedchain==0.1.59) (1.3.1)\n",
            "Requirement already satisfied: idna>=2.8 in /Users/ofer/miniconda3/envs/langchain/lib/python3.10/site-packages (from anyio<4.0->langchain<0.0.337,>=0.0.336->embedchain==0.1.59) (3.6)\n",
            "Requirement already satisfied: exceptiongroup in /Users/ofer/miniconda3/envs/langchain/lib/python3.10/site-packages (from anyio<4.0->langchain<0.0.337,>=0.0.336->embedchain==0.1.59) (1.2.0)\n",
            "Requirement already satisfied: packaging>=19.0 in /Users/ofer/miniconda3/envs/langchain/lib/python3.10/site-packages (from build>=1.0.3->chromadb<0.5.0,>=0.4.17->embedchain==0.1.59) (23.2)\n",
            "Requirement already satisfied: pyproject_hooks in /Users/ofer/miniconda3/envs/langchain/lib/python3.10/site-packages (from build>=1.0.3->chromadb<0.5.0,>=0.4.17->embedchain==0.1.59) (1.0.0)\n",
            "Requirement already satisfied: tomli>=1.1.0 in /Users/ofer/miniconda3/envs/langchain/lib/python3.10/site-packages (from build>=1.0.3->chromadb<0.5.0,>=0.4.17->embedchain==0.1.59) (2.0.1)\n",
            "Requirement already satisfied: marshmallow<4.0.0,>=3.18.0 in /Users/ofer/miniconda3/envs/langchain/lib/python3.10/site-packages (from dataclasses-json<0.7,>=0.5.7->langchain<0.0.337,>=0.0.336->embedchain==0.1.59) (3.20.1)\n",
            "Requirement already satisfied: typing-inspect<1,>=0.4.0 in /Users/ofer/miniconda3/envs/langchain/lib/python3.10/site-packages (from dataclasses-json<0.7,>=0.5.7->langchain<0.0.337,>=0.0.336->embedchain==0.1.59) (0.9.0)\n",
            "Requirement already satisfied: starlette<0.28.0,>=0.27.0 in /Users/ofer/miniconda3/envs/langchain/lib/python3.10/site-packages (from fastapi>=0.95.2->chromadb<0.5.0,>=0.4.17->embedchain==0.1.59) (0.27.0)\n",
            "Requirement already satisfied: certifi in /Users/ofer/miniconda3/envs/langchain/lib/python3.10/site-packages (from httpx<1,>=0.23.0->openai>=1.1.1->embedchain==0.1.59) (2023.11.17)\n",
            "Requirement already satisfied: httpcore in /Users/ofer/miniconda3/envs/langchain/lib/python3.10/site-packages (from httpx<1,>=0.23.0->openai>=1.1.1->embedchain==0.1.59) (1.0.1)\n",
            "Requirement already satisfied: jsonpointer>=1.9 in /Users/ofer/miniconda3/envs/langchain/lib/python3.10/site-packages (from jsonpatch<2.0,>=1.33->langchain<0.0.337,>=0.0.336->embedchain==0.1.59) (2.4)\n",
            "Requirement already satisfied: google-auth>=1.0.1 in /Users/ofer/miniconda3/envs/langchain/lib/python3.10/site-packages (from kubernetes>=28.1.0->chromadb<0.5.0,>=0.4.17->embedchain==0.1.59) (2.26.2)\n",
            "Requirement already satisfied: websocket-client!=0.40.0,!=0.41.*,!=0.42.*,>=0.32.0 in /Users/ofer/miniconda3/envs/langchain/lib/python3.10/site-packages (from kubernetes>=28.1.0->chromadb<0.5.0,>=0.4.17->embedchain==0.1.59) (1.7.0)\n",
            "Requirement already satisfied: requests-oauthlib in /Users/ofer/miniconda3/envs/langchain/lib/python3.10/site-packages (from kubernetes>=28.1.0->chromadb<0.5.0,>=0.4.17->embedchain==0.1.59) (1.3.1)\n",
            "Requirement already satisfied: oauthlib>=3.2.2 in /Users/ofer/miniconda3/envs/langchain/lib/python3.10/site-packages (from kubernetes>=28.1.0->chromadb<0.5.0,>=0.4.17->embedchain==0.1.59) (3.2.2)\n",
            "Requirement already satisfied: urllib3>=1.24.2 in /Users/ofer/miniconda3/envs/langchain/lib/python3.10/site-packages (from kubernetes>=28.1.0->chromadb<0.5.0,>=0.4.17->embedchain==0.1.59) (1.26.18)\n",
            "Requirement already satisfied: mdurl~=0.1 in /Users/ofer/miniconda3/envs/langchain/lib/python3.10/site-packages (from markdown-it-py>=2.2.0->rich<14.0.0,>=13.7.0->embedchain==0.1.59) (0.1.2)\n",
            "Requirement already satisfied: coloredlogs in /Users/ofer/miniconda3/envs/langchain/lib/python3.10/site-packages (from onnxruntime>=1.14.1->chromadb<0.5.0,>=0.4.17->embedchain==0.1.59) (15.0.1)\n",
            "Requirement already satisfied: flatbuffers in /Users/ofer/miniconda3/envs/langchain/lib/python3.10/site-packages (from onnxruntime>=1.14.1->chromadb<0.5.0,>=0.4.17->embedchain==0.1.59) (23.5.26)\n",
            "Requirement already satisfied: protobuf in /Users/ofer/miniconda3/envs/langchain/lib/python3.10/site-packages (from onnxruntime>=1.14.1->chromadb<0.5.0,>=0.4.17->embedchain==0.1.59) (3.19.6)\n",
            "Requirement already satisfied: sympy in /Users/ofer/miniconda3/envs/langchain/lib/python3.10/site-packages (from onnxruntime>=1.14.1->chromadb<0.5.0,>=0.4.17->embedchain==0.1.59) (1.12)\n",
            "Requirement already satisfied: deprecated>=1.2.6 in /Users/ofer/miniconda3/envs/langchain/lib/python3.10/site-packages (from opentelemetry-api>=1.2.0->chromadb<0.5.0,>=0.4.17->embedchain==0.1.59) (1.2.14)\n",
            "Requirement already satisfied: importlib-metadata<7.0,>=6.0 in /Users/ofer/miniconda3/envs/langchain/lib/python3.10/site-packages (from opentelemetry-api>=1.2.0->chromadb<0.5.0,>=0.4.17->embedchain==0.1.59) (6.8.0)\n",
            "Requirement already satisfied: googleapis-common-protos~=1.52 in /Users/ofer/miniconda3/envs/langchain/lib/python3.10/site-packages (from opentelemetry-exporter-otlp-proto-grpc>=1.2.0->chromadb<0.5.0,>=0.4.17->embedchain==0.1.59) (1.62.0)\n",
            "Requirement already satisfied: opentelemetry-exporter-otlp-proto-common==1.22.0 in /Users/ofer/miniconda3/envs/langchain/lib/python3.10/site-packages (from opentelemetry-exporter-otlp-proto-grpc>=1.2.0->chromadb<0.5.0,>=0.4.17->embedchain==0.1.59) (1.22.0)\n",
            "Requirement already satisfied: opentelemetry-proto==1.22.0 in /Users/ofer/miniconda3/envs/langchain/lib/python3.10/site-packages (from opentelemetry-exporter-otlp-proto-grpc>=1.2.0->chromadb<0.5.0,>=0.4.17->embedchain==0.1.59) (1.22.0)\n",
            "Requirement already satisfied: opentelemetry-instrumentation-asgi==0.43b0 in /Users/ofer/miniconda3/envs/langchain/lib/python3.10/site-packages (from opentelemetry-instrumentation-fastapi>=0.41b0->chromadb<0.5.0,>=0.4.17->embedchain==0.1.59) (0.43b0)\n",
            "Requirement already satisfied: opentelemetry-instrumentation==0.43b0 in /Users/ofer/miniconda3/envs/langchain/lib/python3.10/site-packages (from opentelemetry-instrumentation-fastapi>=0.41b0->chromadb<0.5.0,>=0.4.17->embedchain==0.1.59) (0.43b0)\n",
            "Requirement already satisfied: opentelemetry-semantic-conventions==0.43b0 in /Users/ofer/miniconda3/envs/langchain/lib/python3.10/site-packages (from opentelemetry-instrumentation-fastapi>=0.41b0->chromadb<0.5.0,>=0.4.17->embedchain==0.1.59) (0.43b0)\n",
            "Requirement already satisfied: opentelemetry-util-http==0.43b0 in /Users/ofer/miniconda3/envs/langchain/lib/python3.10/site-packages (from opentelemetry-instrumentation-fastapi>=0.41b0->chromadb<0.5.0,>=0.4.17->embedchain==0.1.59) (0.43b0)\n",
            "Requirement already satisfied: setuptools>=16.0 in /Users/ofer/miniconda3/envs/langchain/lib/python3.10/site-packages (from opentelemetry-instrumentation==0.43b0->opentelemetry-instrumentation-fastapi>=0.41b0->chromadb<0.5.0,>=0.4.17->embedchain==0.1.59) (67.8.0)\n",
            "Requirement already satisfied: wrapt<2.0.0,>=1.0.0 in /Users/ofer/miniconda3/envs/langchain/lib/python3.10/site-packages (from opentelemetry-instrumentation==0.43b0->opentelemetry-instrumentation-fastapi>=0.41b0->chromadb<0.5.0,>=0.4.17->embedchain==0.1.59) (1.16.0)\n",
            "Requirement already satisfied: asgiref~=3.0 in /Users/ofer/miniconda3/envs/langchain/lib/python3.10/site-packages (from opentelemetry-instrumentation-asgi==0.43b0->opentelemetry-instrumentation-fastapi>=0.41b0->chromadb<0.5.0,>=0.4.17->embedchain==0.1.59) (3.7.2)\n",
            "Requirement already satisfied: charset-normalizer<4,>=2 in /Users/ofer/miniconda3/envs/langchain/lib/python3.10/site-packages (from requests>=2.28->chromadb<0.5.0,>=0.4.17->embedchain==0.1.59) (3.3.2)\n",
            "Requirement already satisfied: huggingface_hub<1.0,>=0.16.4 in /Users/ofer/miniconda3/envs/langchain/lib/python3.10/site-packages (from tokenizers>=0.13.2->chromadb<0.5.0,>=0.4.17->embedchain==0.1.59) (0.20.2)\n",
            "Requirement already satisfied: click<9.0.0,>=7.1.1 in /Users/ofer/miniconda3/envs/langchain/lib/python3.10/site-packages (from typer>=0.9.0->chromadb<0.5.0,>=0.4.17->embedchain==0.1.59) (8.1.7)\n",
            "Requirement already satisfied: h11>=0.8 in /Users/ofer/miniconda3/envs/langchain/lib/python3.10/site-packages (from uvicorn>=0.18.3->uvicorn[standard]>=0.18.3->chromadb<0.5.0,>=0.4.17->embedchain==0.1.59) (0.14.0)\n",
            "Requirement already satisfied: httptools>=0.5.0 in /Users/ofer/miniconda3/envs/langchain/lib/python3.10/site-packages (from uvicorn[standard]>=0.18.3->chromadb<0.5.0,>=0.4.17->embedchain==0.1.59) (0.6.1)\n",
            "Requirement already satisfied: uvloop!=0.15.0,!=0.15.1,>=0.14.0 in /Users/ofer/miniconda3/envs/langchain/lib/python3.10/site-packages (from uvicorn[standard]>=0.18.3->chromadb<0.5.0,>=0.4.17->embedchain==0.1.59) (0.19.0)\n",
            "Requirement already satisfied: watchfiles>=0.13 in /Users/ofer/miniconda3/envs/langchain/lib/python3.10/site-packages (from uvicorn[standard]>=0.18.3->chromadb<0.5.0,>=0.4.17->embedchain==0.1.59) (0.21.0)\n",
            "Requirement already satisfied: websockets>=10.4 in /Users/ofer/miniconda3/envs/langchain/lib/python3.10/site-packages (from uvicorn[standard]>=0.18.3->chromadb<0.5.0,>=0.4.17->embedchain==0.1.59) (12.0)\n",
            "Requirement already satisfied: pyasn1-modules>=0.2.1 in /Users/ofer/miniconda3/envs/langchain/lib/python3.10/site-packages (from google-auth>=1.0.1->kubernetes>=28.1.0->chromadb<0.5.0,>=0.4.17->embedchain==0.1.59) (0.3.0)\n",
            "Requirement already satisfied: rsa<5,>=3.1.4 in /Users/ofer/miniconda3/envs/langchain/lib/python3.10/site-packages (from google-auth>=1.0.1->kubernetes>=28.1.0->chromadb<0.5.0,>=0.4.17->embedchain==0.1.59) (4.9)\n",
            "Requirement already satisfied: filelock in /Users/ofer/miniconda3/envs/langchain/lib/python3.10/site-packages (from huggingface_hub<1.0,>=0.16.4->tokenizers>=0.13.2->chromadb<0.5.0,>=0.4.17->embedchain==0.1.59) (3.13.1)\n",
            "Requirement already satisfied: fsspec>=2023.5.0 in /Users/ofer/miniconda3/envs/langchain/lib/python3.10/site-packages (from huggingface_hub<1.0,>=0.16.4->tokenizers>=0.13.2->chromadb<0.5.0,>=0.4.17->embedchain==0.1.59) (2023.12.2)\n",
            "Requirement already satisfied: zipp>=0.5 in /Users/ofer/miniconda3/envs/langchain/lib/python3.10/site-packages (from importlib-metadata<7.0,>=6.0->opentelemetry-api>=1.2.0->chromadb<0.5.0,>=0.4.17->embedchain==0.1.59) (3.17.0)\n",
            "Requirement already satisfied: mypy-extensions>=0.3.0 in /Users/ofer/miniconda3/envs/langchain/lib/python3.10/site-packages (from typing-inspect<1,>=0.4.0->dataclasses-json<0.7,>=0.5.7->langchain<0.0.337,>=0.0.336->embedchain==0.1.59) (1.0.0)\n",
            "Requirement already satisfied: humanfriendly>=9.1 in /Users/ofer/miniconda3/envs/langchain/lib/python3.10/site-packages (from coloredlogs->onnxruntime>=1.14.1->chromadb<0.5.0,>=0.4.17->embedchain==0.1.59) (10.0)\n",
            "Requirement already satisfied: mpmath>=0.19 in /Users/ofer/miniconda3/envs/langchain/lib/python3.10/site-packages (from sympy->onnxruntime>=1.14.1->chromadb<0.5.0,>=0.4.17->embedchain==0.1.59) (1.3.0)\n",
            "Requirement already satisfied: pyasn1<0.6.0,>=0.4.6 in /Users/ofer/miniconda3/envs/langchain/lib/python3.10/site-packages (from pyasn1-modules>=0.2.1->google-auth>=1.0.1->kubernetes>=28.1.0->chromadb<0.5.0,>=0.4.17->embedchain==0.1.59) (0.5.1)\n",
            "Building wheels for collected packages: embedchain\n",
            "  Building editable for embedchain (pyproject.toml) ... \u001b[?25ldone\n",
            "\u001b[?25h  Created wheel for embedchain: filename=embedchain-0.1.59-py3-none-any.whl size=9339 sha256=ea5cdd374f78714b2c3dd1fe404655a2986caade71c9e2715c48b8a9c51ac775\n",
            "  Stored in directory: /private/var/folders/48/8_815vxj0vl2z5_28gys249r0000gn/T/pip-ephem-wheel-cache-mi8uh2fn/wheels/c1/10/22/d1bfbf20a6f1021e5a5c8f177f263d6d6ba4ea62066fbf8671\n",
            "Successfully built embedchain\n",
            "Installing collected packages: embedchain\n",
            "  Attempting uninstall: embedchain\n",
            "    Found existing installation: embedchain 0.1.59\n",
            "    Uninstalling embedchain-0.1.59:\n",
            "      Successfully uninstalled embedchain-0.1.59\n",
            "Successfully installed embedchain-0.1.59\n"
          ]
        }
      ],
      "source": [
        "#!pip install embedchain[vectara]\n",
        "\n",
        "!python -m pip install -e ~/dev/embedchain\n",
        "\n",
        "import os\n",
        "os.environ['VECTARA_CUSTOMER_ID'] = '1169579801'\n",
        "os.environ['VECTARA_OAUTH_CLIENT_ID'] = '7vleevf47e4s86a3qln6k95h97'\n",
        "os.environ['VECTARA_OAUTH_SECRET'] = '285svsv942iel08unn1uf3quhlnbpq6aj30j6nhs383nmlpq33e'\n",
        "\n",
        "import pandas as pd\n",
        "pd.set_option('display.max_colwidth', None)\n",
        "pd.set_option('display.max_rows', None)\n"
      ]
    },
    {
      "cell_type": "markdown",
      "metadata": {
        "id": "nGnpSYAAh2bQ"
      },
      "source": [
        "### Step-2: Set environment variables needed for Vectara\n",
        "\n",
        "If you do not have a Vectara account yet, first [sign up](https://vectara.com/integrations/embedchain) for your account.\n",
        "You can find the env variables on [Vectara console](https://console.vectara.com/console/apiAccess/appClients) and on your [OpenAI dashboard](https://platform.openai.com/account/api-keys). "
      ]
    },
    {
      "cell_type": "code",
      "execution_count": 2,
      "metadata": {
        "id": "0fBdQ9GAiRvK"
      },
      "outputs": [],
      "source": [
        "import os\n",
        "from embedchain import App\n",
        "\n",
        "#os.environ[\"OPENAI_API_KEY\"] = \"sk-xxx\"\n",
        "#os.environ[\"VECTARA_CUSTOMER_ID\"] = \"xxx\"\n",
        "#os.environ[\"VECTARA_OAUTH_CLIENT_ID\"] = \"xxx\"\n",
        "#os.environ[\"VECTARA_OAUTH_SECRET\"] = \"xxx\""
      ]
    },
    {
      "cell_type": "markdown",
      "metadata": {
        "id": "PGt6uPLIi1CS"
      },
      "source": [
        "### Step-3 Create embedchain app and define your config\n",
        "\n",
        "Since Vectara provides a GenAI platform (we call it RAG-in-a-box) you do not need an embedding provider as this is done inside the platform.\n",
        "Furthermore, Vectara does its own chunking internally, so we configure the chunking to be a no-op."
      ]
    },
    {
      "cell_type": "code",
      "execution_count": 3,
      "metadata": {
        "id": "Amzxk3m-i3tD"
      },
      "outputs": [
        {
          "name": "stdout",
          "output_type": "stream",
          "text": [
            "DEBUG response=<Response [200]>\n"
          ]
        }
      ],
      "source": [
        "app = App.from_config(\n",
        "    config={\n",
        "        \"vectordb\": {\n",
        "            \"provider\": \"vectara\",\n",
        "            \"config\": {\n",
        "                \"collection_name\": \"vectara-demo\"\n",
        "            }\n",
        "        },\n",
        "        \"chunker\": {\n",
        "            \"chunk_size\": 1000000,\n",
        "            \"chunk_overlap\": 0\n",
        "        }\n",
        "    })"
      ]
    },
    {
      "cell_type": "markdown",
      "metadata": {
        "id": "XNXv4yZwi7ef"
      },
      "source": [
        "### Step-4: Add data sources to your app\n",
        "\n",
        "For our example we will add the full documentation website of Vectara. \n",
        "By choosing \"docs_site\" as the data type, we ask EmbedChain to crawl and ingest all the pages in the Vectara documentation:"
      ]
    },
    {
      "cell_type": "code",
      "execution_count": 4,
      "metadata": {
        "id": "Sn_0rx9QjIY9"
      },
      "outputs": [
        {
          "name": "stdout",
          "output_type": "stream",
          "text": [
            "DEBUG response=<Response [200]>\n",
            "DEBUG response=<Response [200]>\n",
            "DEBUG response=<Response [200]>\n",
            "DEBUG response=<Response [200]>\n",
            "Adding 40 new documents to Vectara (out of 40 submitted to indexing)...\n",
            "DEBUG response=<Response [200]>\n",
            "DEBUG response=<Response [200]>\n",
            "DEBUG response=<Response [200]>\n",
            "DEBUG response=<Response [200]>\n",
            "DEBUG response=<Response [200]>\n",
            "DEBUG response=<Response [200]>\n",
            "DEBUG response=<Response [200]>\n",
            "DEBUG response=<Response [200]>\n",
            "DEBUG response=<Response [200]>\n",
            "DEBUG response=<Response [200]>\n",
            "DEBUG response=<Response [200]>\n",
            "DEBUG response=<Response [200]>\n",
            "DEBUG response=<Response [200]>\n",
            "DEBUG response=<Response [200]>\n",
            "DEBUG response=<Response [200]>\n",
            "DEBUG response=<Response [200]>\n",
            "DEBUG response=<Response [200]>\n",
            "DEBUG response=<Response [200]>\n",
            "DEBUG response=<Response [200]>\n",
            "DEBUG response=<Response [200]>\n",
            "DEBUG response=<Response [200]>\n",
            "DEBUG response=<Response [200]>\n",
            "DEBUG response=<Response [200]>\n",
            "DEBUG response=<Response [200]>\n",
            "DEBUG response=<Response [200]>\n",
            "DEBUG response=<Response [200]>\n",
            "DEBUG response=<Response [200]>\n",
            "DEBUG response=<Response [200]>\n",
            "DEBUG response=<Response [200]>\n",
            "DEBUG response=<Response [200]>\n",
            "DEBUG response=<Response [200]>\n",
            "DEBUG response=<Response [200]>\n",
            "DEBUG response=<Response [200]>\n",
            "DEBUG response=<Response [200]>\n",
            "DEBUG response=<Response [200]>\n",
            "DEBUG response=<Response [200]>\n",
            "DEBUG response=<Response [200]>\n",
            "DEBUG response=<Response [200]>\n",
            "DEBUG response=<Response [200]>\n",
            "DEBUG response=<Response [200]>\n",
            "DEBUG response=<Response [200]>\n",
            "Successfully saved https://docs.vectara.com/ (DataType.DOCS_SITE). New chunks count: 40\n"
          ]
        },
        {
          "data": {
            "text/plain": [
              "'d1f20d25579de0cf550ce26446eaeaaa'"
            ]
          },
          "execution_count": 4,
          "metadata": {},
          "output_type": "execute_result"
        }
      ],
      "source": [
        "app.add(\"https://docs.vectara.com/\", data_type=\"docs_site\")"
      ]
    },
    {
      "cell_type": "markdown",
      "metadata": {
        "id": "_7W6fDeAjMAP"
      },
      "source": [
        "### Step-5: All set. Now start asking questions related to your data"
      ]
    },
    {
      "cell_type": "code",
      "execution_count": 5,
      "metadata": {
        "id": "cvIK7dWRjN_f"
      },
      "outputs": [
        {
          "name": "stdout",
          "output_type": "stream",
          "text": [
            "DEBUG response=<Response [200]>\n",
            "DEBUG response=<Response [200]>\n",
            "DEBUG response=<Response [200]>\n",
            "DEBUG response=<Response [200]>\n",
            "DEBUG response=<Response [200]>\n"
          ]
        }
      ],
      "source": [
        "questions = [\n",
        "    \"What is Vectara?\",\n",
        "    \"How do I index documents in Vectara?\",\n",
        "    \"what is hybrid search and how does it work in Vectara?\",\n",
        "    \"What is RAG?\",\n",
        "    \"How does MMR work?\"\n",
        "]\n",
        "\n",
        "data = []\n",
        "for q in questions:\n",
        "    answer = app.query(q)\n",
        "    data.append([q, answer])\n",
        "\n",
        "df = pd.DataFrame(data=data, columns=[\"question\", \"answer\"])"
      ]
    },
    {
      "cell_type": "code",
      "execution_count": 6,
      "metadata": {},
      "outputs": [
        {
          "data": {
            "text/html": [
              "<style type=\"text/css\">\n",
              "#T_50743_row0_col0, #T_50743_row0_col1, #T_50743_row1_col0, #T_50743_row1_col1, #T_50743_row2_col0, #T_50743_row2_col1, #T_50743_row3_col0, #T_50743_row3_col1, #T_50743_row4_col0, #T_50743_row4_col1 {\n",
              "  text-align: left;\n",
              "}\n",
              "</style>\n",
              "<table id=\"T_50743\">\n",
              "  <thead>\n",
              "    <tr>\n",
              "      <th class=\"blank level0\" >&nbsp;</th>\n",
              "      <th id=\"T_50743_level0_col0\" class=\"col_heading level0 col0\" >question</th>\n",
              "      <th id=\"T_50743_level0_col1\" class=\"col_heading level0 col1\" >answer</th>\n",
              "    </tr>\n",
              "  </thead>\n",
              "  <tbody>\n",
              "    <tr>\n",
              "      <th id=\"T_50743_level0_row0\" class=\"row_heading level0 row0\" >0</th>\n",
              "      <td id=\"T_50743_row0_col0\" class=\"data row0 col0\" >What is Vectara?</td>\n",
              "      <td id=\"T_50743_row0_col1\" class=\"data row0 col1\" >Vectara is a platform that offers generative AI search capabilities and is designed for developers with an API-first approach. It provides easy ingestion of data and simple APIs for integration into applications. Vectara can be used as an answer engine and offers superior language understanding for ingestion and retrieval of information.</td>\n",
              "    </tr>\n",
              "    <tr>\n",
              "      <th id=\"T_50743_level0_row1\" class=\"row_heading level0 row1\" >1</th>\n",
              "      <td id=\"T_50743_row1_col0\" class=\"data row1 col0\" >How do I index documents in Vectara?</td>\n",
              "      <td id=\"T_50743_row1_col1\" class=\"data row1 col1\" >To index documents in Vectara, you can use either the Standard Indexing API or the File Upload API.\n",
              "\n",
              "For the Standard Indexing method, you can use the REST endpoint provided by Vectara at the following URL: https://api.vectara.io/v1/index. You will need to include the necessary headers, such as the customer_id, in your REST calls to interact with the Index service.\n",
              "\n",
              "Alternatively, you can use the File Upload method, which exposes an HTTP endpoint for uploading and indexing files into a corpus.\n",
              "\n",
              "Both methods allow you to make your data available for search and retrieval in Vectara.</td>\n",
              "    </tr>\n",
              "    <tr>\n",
              "      <th id=\"T_50743_level0_row2\" class=\"row_heading level0 row2\" >2</th>\n",
              "      <td id=\"T_50743_row2_col0\" class=\"data row2 col0\" >what is hybrid search and how does it work in Vectara?</td>\n",
              "      <td id=\"T_50743_row2_col1\" class=\"data row2 col1\" >Hybrid search in Vectara is a text retrieval approach that combines traditional, keyword-based search with semantic search using neural models. It offers a powerful and flexible way to retrieve relevant information from text. \n",
              "\n",
              "In Vectara, hybrid search works by blending partial, exact, and Boolean text matching with neural models. This allows for a more comprehensive understanding of user queries and enables Vectara to provide contextually accurate responses. \n",
              "\n",
              "With hybrid search, you can include exact keyword matches even if they were absent from Vectara's training data, such as product SKUs. You also have the option to disable neural retrieval entirely and use exact term matching. Additionally, you can incorporate typical keyword modifiers like a NOT function, exact phrase matching, and wildcard prefixes of terms.\n",
              "\n",
              "To enable hybrid search in Vectara, you need to specify a value called \"lambda\" at query time, specifically under the corpusKey. The lambda value can range from 0 to 1, with 0 representing traditional keyword-based search and 1 representing neural retrieval.</td>\n",
              "    </tr>\n",
              "    <tr>\n",
              "      <th id=\"T_50743_level0_row3\" class=\"row_heading level0 row3\" >3</th>\n",
              "      <td id=\"T_50743_row3_col0\" class=\"data row3 col0\" >What is RAG?</td>\n",
              "      <td id=\"T_50743_row3_col1\" class=\"data row3 col1\" >RAG stands for Retrieval Augmented Generation. It is a technology used in generative AI systems to ensure that the generated content is both verifiable and anchored to the supplied data. RAG minimizes the occurrence of hallucinations, which are inaccurate or misleading information commonly found in generative AI systems. It summarizes search results that answer complex queries directly and provides citations to ground these search results in facts from the data.</td>\n",
              "    </tr>\n",
              "    <tr>\n",
              "      <th id=\"T_50743_level0_row4\" class=\"row_heading level0 row4\" >4</th>\n",
              "      <td id=\"T_50743_row4_col0\" class=\"data row4 col0\" >How does MMR work?</td>\n",
              "      <td id=\"T_50743_row4_col1\" class=\"data row4 col1\" >I don't have enough information to answer the query about how MMR works.</td>\n",
              "    </tr>\n",
              "  </tbody>\n",
              "</table>\n"
            ],
            "text/plain": [
              "<pandas.io.formats.style.Styler at 0x1779838e0>"
            ]
          },
          "execution_count": 6,
          "metadata": {},
          "output_type": "execute_result"
        }
      ],
      "source": [
        "df.style.set_properties(**{'text-align': 'left'})"
      ]
    },
    {
      "cell_type": "code",
      "execution_count": 7,
      "metadata": {},
      "outputs": [
        {
          "name": "stdout",
          "output_type": "stream",
          "text": [
            "DEBUG response=<Response [200]>\n"
          ]
        },
        {
          "data": {
            "text/plain": [
              "('Vectara is a platform that offers generative AI search capabilities and is designed for developers with an API-first approach. It provides easy ingestion of data and simple APIs for integration into applications. Vectara can be used as an answer engine and offers superior language understanding for ingestion and retrieval of information.',\n",
              " [(\"Why certain birds are allowed for the most random reason? We have part of a\\nunique employee handbook ready for you to upload into a Vectara corpus,\\nand we'll guide you through the ingestion and question answering process step by step. Step 1. Create a Vectara account \\u200b To get started with Vectara , go to https://console.vectara.com/signup or\\nclick Get Started Free at vectara.com. After you make an account, you can\\ncreate your first corpus and upload your first document! Step 2. Create your first corpus \\u200b Before you can ask the data about bringing your velociraptor to the\\noffice, you first need to create a corpus.\",\n",
              "   {'lang': 'eng',\n",
              "    'offset': '486',\n",
              "    'len': '147',\n",
              "    'score': 0.5226531,\n",
              "    'url': 'https://docs.vectara.com/docs/quickstart',\n",
              "    'data_type': 'docs_site',\n",
              "    'doc_id': 'e0815b5e-7423-46af-a289-4b6669e20406--fd6e8ca1cec18c4b4070b5c681c2c2a0f668c51d388e3b32ba85ecdb439dc9fa',\n",
              "    'app_id': 'e0815b5e-7423-46af-a289-4b6669e20406',\n",
              "    'hash': 'd1f20d25579de0cf550ce26446eaeaaa'}),\n",
              "  (\"Indexing operations, such as creating and deleting documents 📄️ Delete Delete documents from a corpus. 📄️ Index This is the 'standard' Indexing API for indexing semi-structured, text-heavy 'documents.' Indexing data into Vectara is typically very fast: within a few seconds. 📄️ CoreIndex This API is intended to be used by experts. It gives you fine-grained control over chunking 📄️ FileUpload The File Upload API can be used to index binary files like PDFs, Word Documents, and similar.\",\n",
              "   {'lang': 'eng',\n",
              "    'offset': '205',\n",
              "    'len': '72',\n",
              "    'score': 0.29857844,\n",
              "    'url': 'https://docs.vectara.com/docs/rest-api/index-service',\n",
              "    'data_type': 'docs_site',\n",
              "    'doc_id': 'e0815b5e-7423-46af-a289-4b6669e20406--fd6e8ca1cec18c4b4070b5c681c2c2a0f668c51d388e3b32ba85ecdb439dc9fa',\n",
              "    'app_id': 'e0815b5e-7423-46af-a289-4b6669e20406',\n",
              "    'hash': 'd1f20d25579de0cf550ce26446eaeaaa'}),\n",
              "  ('Vectara summarizes search results on complex queries while providing factual\\ncitations from your data. Vectara provides the best hybrid search\\ncore and superior language understanding for ingestion and retrieval. Vectara can become your answer engine. Developer-focused, API-first, Secure \\u200b Designed for developers with an API-first approach, Vectara is\\nthe optimal choice to integrate generative AI search into your\\napplications. This complete end-to-end platform provides easy ingestion and\\nsimple APIs.',\n",
              "   {'lang': 'eng',\n",
              "    'offset': '1420',\n",
              "    'len': '38',\n",
              "    'score': 0.29273137,\n",
              "    'url': 'https://docs.vectara.com/docs/',\n",
              "    'data_type': 'docs_site',\n",
              "    'doc_id': 'e0815b5e-7423-46af-a289-4b6669e20406--fd6e8ca1cec18c4b4070b5c681c2c2a0f668c51d388e3b32ba85ecdb439dc9fa',\n",
              "    'app_id': 'e0815b5e-7423-46af-a289-4b6669e20406',\n",
              "    'hash': 'd1f20d25579de0cf550ce26446eaeaaa'})])"
            ]
          },
          "execution_count": 7,
          "metadata": {},
          "output_type": "execute_result"
        }
      ],
      "source": [
        "app.query(\"What is Vectara?\", citations=True)"
      ]
    },
    {
      "cell_type": "code",
      "execution_count": null,
      "metadata": {},
      "outputs": [],
      "source": []
    }
  ],
  "metadata": {
    "colab": {
      "provenance": []
    },
    "kernelspec": {
      "display_name": "Python 3",
      "name": "python3"
    },
    "language_info": {
      "codemirror_mode": {
        "name": "ipython",
        "version": 3
      },
      "file_extension": ".py",
      "mimetype": "text/x-python",
      "name": "python",
      "nbconvert_exporter": "python",
      "pygments_lexer": "ipython3",
      "version": "3.10.13"
    }
  },
  "nbformat": 4,
  "nbformat_minor": 0
}
